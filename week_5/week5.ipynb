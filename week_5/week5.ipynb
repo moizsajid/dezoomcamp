{
 "cells": [
  {
   "cell_type": "code",
   "execution_count": 43,
   "id": "3307b886",
   "metadata": {},
   "outputs": [],
   "source": [
    "import pyspark\n",
    "from pyspark.sql import SparkSession\n",
    "import pandas as pd\n",
    "\n",
    "from pyspark.sql import types"
   ]
  },
  {
   "cell_type": "code",
   "execution_count": null,
   "id": "17b461bc",
   "metadata": {},
   "outputs": [],
   "source": [
    "spark = SparkSession.builder \\\n",
    "    .master(\"local[*]\") \\\n",
    "    .appName('test') \\\n",
    "    .getOrCreate()"
   ]
  },
  {
   "cell_type": "markdown",
   "id": "9069eb04",
   "metadata": {},
   "source": [
    "#### Data Preparation"
   ]
  },
  {
   "cell_type": "code",
   "execution_count": null,
   "id": "d3574fd5",
   "metadata": {},
   "outputs": [],
   "source": [
    "fhvhv_schema = types.StructType([\n",
    "    types.StructField(\"Hvfhs_license_num\", types.StringType(), True),\n",
    "    types.StructField(\"Dispatching_base_num\", types.StringType(), True),\n",
    "    types.StructField(\"pickup_datetime\", types.TimestampType(), True),\n",
    "    types.StructField(\"dropoff_datetime\", types.TimestampType(), True),\n",
    "    types.StructField(\"PULocationID\", types.IntegerType(), True),\n",
    "    types.StructField(\"DOLocationID\", types.IntegerType(), True),\n",
    "    types.StructField(\"SR_Flag\", types.IntegerType(), True),\n",
    "])\n",
    "\n",
    "year = 2021\n",
    "month = 2\n",
    "\n",
    "input_path = 'fhvhv_tripdata_2021-02.csv'\n",
    "output_path = f'data/pq/fhvhv/{year}/{month:02d}/'\n",
    "\n",
    "df_fhvhv = spark.read \\\n",
    "    .option(\"header\", \"true\") \\\n",
    "    .schema(fhvhv_schema) \\\n",
    "    .csv(input_path)\n",
    "\n",
    "df_fhvhv \\\n",
    "    .repartition(24) \\\n",
    "    .write.parquet(output_path)\n",
    "\n",
    "df_fhvhv = spark.read.parquet('data/pq/fhvhv/*/*')\n",
    "\n",
    "df_fhvhv.registerTempTable('fhvhv_trips_data')"
   ]
  },
  {
   "cell_type": "code",
   "execution_count": null,
   "id": "f715bd19",
   "metadata": {},
   "outputs": [],
   "source": [
    "taxi_zone_schema = types.StructType([\n",
    "    types.StructField(\"LocationID\", types.IntegerType(), True),\n",
    "    types.StructField(\"Borough\", types.StringType(), True),\n",
    "    types.StructField(\"Zone\", types.StringType(), True),\n",
    "    types.StructField(\"service_zone\", types.StringType(), True)\n",
    "])\n",
    "\n",
    "input_path = 'taxi+_zone_lookup.csv'\n",
    "output_path = f'data/taxi_zone/'\n",
    "\n",
    "df_taxi_zone = spark.read \\\n",
    "    .option(\"header\", \"true\") \\\n",
    "    .schema(taxi_zone_schema) \\\n",
    "    .csv(input_path)\n",
    "\n",
    "df_taxi_zone \\\n",
    "    .write.parquet(output_path)\n",
    "\n",
    "df_taxi_zone.registerTempTable('taxi_zone_data')"
   ]
  },
  {
   "cell_type": "markdown",
   "id": "b4f8da88",
   "metadata": {},
   "source": [
    "#### Question 3"
   ]
  },
  {
   "cell_type": "code",
   "execution_count": 14,
   "id": "d0e01bf1",
   "metadata": {},
   "outputs": [
    {
     "name": "stderr",
     "output_type": "stream",
     "text": [
      "[Stage 8:>                                                          (0 + 4) / 4]\r"
     ]
    },
    {
     "name": "stdout",
     "output_type": "stream",
     "text": [
      "+--------+\n",
      "|count(1)|\n",
      "+--------+\n",
      "|  367170|\n",
      "+--------+\n",
      "\n"
     ]
    },
    {
     "name": "stderr",
     "output_type": "stream",
     "text": [
      "                                                                                \r"
     ]
    }
   ],
   "source": [
    "spark.sql(\"\"\"\n",
    "SELECT\n",
    "    COUNT(*)\n",
    "FROM\n",
    "    fhvhv_trips_data\n",
    "WHERE\n",
    "    CAST(pickup_datetime AS DATE)='2021-02-15'\n",
    "\"\"\").show()"
   ]
  },
  {
   "cell_type": "markdown",
   "id": "4cac9492",
   "metadata": {},
   "source": [
    "#### Question 4"
   ]
  },
  {
   "cell_type": "code",
   "execution_count": 35,
   "id": "6d7bbd64",
   "metadata": {},
   "outputs": [
    {
     "name": "stderr",
     "output_type": "stream",
     "text": [
      "[Stage 22:>                                                         (0 + 4) / 4]\r"
     ]
    },
    {
     "name": "stdout",
     "output_type": "stream",
     "text": [
      "+---------------+\n",
      "|pickup_datetime|\n",
      "+---------------+\n",
      "|     2021-02-11|\n",
      "+---------------+\n",
      "\n"
     ]
    },
    {
     "name": "stderr",
     "output_type": "stream",
     "text": [
      "                                                                                \r"
     ]
    }
   ],
   "source": [
    "spark.sql(\"\"\"\n",
    "SELECT\n",
    "    CAST(pickup_datetime AS DATE)\n",
    "FROM\n",
    "    fhvhv_trips_data\n",
    "ORDER BY\n",
    "    unix_timestamp(dropoff_datetime) - unix_timestamp(pickup_datetime) DESC\n",
    "LIMIT\n",
    "    1\n",
    "\"\"\").show()"
   ]
  },
  {
   "cell_type": "markdown",
   "id": "faa7472e",
   "metadata": {},
   "source": [
    "#### Question 5"
   ]
  },
  {
   "cell_type": "code",
   "execution_count": 41,
   "id": "a4698c6e",
   "metadata": {},
   "outputs": [
    {
     "name": "stdout",
     "output_type": "stream",
     "text": [
      "+--------------------+--------+\n",
      "|Dispatching_base_num|count(1)|\n",
      "+--------------------+--------+\n",
      "|              B02510| 3233664|\n",
      "|              B02764|  965568|\n",
      "|              B02872|  882689|\n",
      "|              B02875|  685390|\n",
      "|              B02765|  559768|\n",
      "|              B02869|  429720|\n",
      "|              B02887|  322331|\n",
      "|              B02871|  312364|\n",
      "|              B02864|  311603|\n",
      "|              B02866|  311089|\n",
      "|              B02878|  305185|\n",
      "|              B02682|  303255|\n",
      "|              B02617|  274510|\n",
      "|              B02883|  251617|\n",
      "|              B02884|  244963|\n",
      "|              B02882|  232173|\n",
      "|              B02876|  215693|\n",
      "|              B02879|  210137|\n",
      "|              B02867|  200530|\n",
      "|              B02877|  198938|\n",
      "+--------------------+--------+\n",
      "only showing top 20 rows\n",
      "\n"
     ]
    }
   ],
   "source": [
    "spark.sql(\"\"\"\n",
    "SELECT\n",
    "    Dispatching_base_num, COUNT(*)\n",
    "FROM\n",
    "    fhvhv_trips_data\n",
    "GROUP BY Dispatching_base_num\n",
    "ORDER BY COUNT(*) DESC\n",
    "\"\"\").show()"
   ]
  },
  {
   "cell_type": "markdown",
   "id": "72c79928",
   "metadata": {},
   "source": [
    "#### Question 6"
   ]
  },
  {
   "cell_type": "code",
   "execution_count": 71,
   "id": "a7898bd8",
   "metadata": {},
   "outputs": [
    {
     "name": "stderr",
     "output_type": "stream",
     "text": [
      "[Stage 70:===========================================>              (3 + 1) / 4]\r"
     ]
    },
    {
     "name": "stdout",
     "output_type": "stream",
     "text": [
      "+------------+------------+--------+\n",
      "|PULocationID|DOLocationID|count(1)|\n",
      "+------------+------------+--------+\n",
      "|          76|          76|   45041|\n",
      "|          26|          26|   37329|\n",
      "|          39|          39|   28026|\n",
      "|          61|          61|   25976|\n",
      "|          14|          14|   17934|\n",
      "|           7|           7|   14688|\n",
      "|         129|         129|   14688|\n",
      "|          42|          42|   14481|\n",
      "|          37|          37|   14424|\n",
      "|          89|          89|   13976|\n",
      "|         216|         216|   13716|\n",
      "|          35|          35|   12829|\n",
      "|         132|         265|   12542|\n",
      "|         188|          61|   11814|\n",
      "|          95|          95|   11548|\n",
      "|          36|          37|   11491|\n",
      "|          37|          36|   11487|\n",
      "|          61|         188|   11462|\n",
      "|          61|         225|   11342|\n",
      "|         188|         188|   11308|\n",
      "+------------+------------+--------+\n",
      "only showing top 20 rows\n",
      "\n"
     ]
    },
    {
     "name": "stderr",
     "output_type": "stream",
     "text": [
      "                                                                                \r"
     ]
    }
   ],
   "source": [
    "spark.sql(\"\"\"\n",
    "SELECT\n",
    "    ftd.PULocationID, ftd.DOLocationID, COUNT(*)\n",
    "FROM\n",
    "    fhvhv_trips_data ftd\n",
    "GROUP BY ftd.PULocationID, ftd.DOLocationID\n",
    "ORDER BY COUNT(*) DESC\n",
    "    \n",
    "\"\"\").show()"
   ]
  }
 ],
 "metadata": {
  "kernelspec": {
   "display_name": "Python 3 (ipykernel)",
   "language": "python",
   "name": "python3"
  },
  "language_info": {
   "codemirror_mode": {
    "name": "ipython",
    "version": 3
   },
   "file_extension": ".py",
   "mimetype": "text/x-python",
   "name": "python",
   "nbconvert_exporter": "python",
   "pygments_lexer": "ipython3",
   "version": "3.7.3"
  }
 },
 "nbformat": 4,
 "nbformat_minor": 5
}
